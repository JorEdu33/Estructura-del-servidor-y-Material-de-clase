{
  "nbformat": 4,
  "nbformat_minor": 0,
  "metadata": {
    "colab": {
      "provenance": []
    },
    "kernelspec": {
      "name": "ir",
      "display_name": "R"
    },
    "language_info": {
      "name": "R"
    }
  },
  "cells": [
    {
      "cell_type": "markdown",
      "source": [
        "# ***Introducción a R***"
      ],
      "metadata": {
        "id": "H76fQ-2sApp9"
      }
    },
    {
      "cell_type": "markdown",
      "source": [
        "\n",
        "Con el propósito de contextualizar el uso del lenguaje R en el marco de este curso de Estadística Inferencial, se presenta a continuación un conjunto de celdas iniciales que servirán como repaso y punto de partida. En ellas se retomarán conceptos fundamentales revisados en Estadística I, tales como la media, la variación y otras medidas descriptivas, con el fin de reforzar su comprensión y familiarizarse con su implementación en R. Este repaso permitirá establecer una base sólida antes de abordar los procedimientos propios de la estadística inferencial.\n",
        "\n",
        "* En el siguiente enlace se encuentra una introducción más detallada a R, en la cual se presentan sus principales funciones y estructuras, así como las diversas herramientas que este lenguaje ofrece para el análisis y procesamiento de datos.\n",
        "[Tutorial](https://r-coder.com/introduccion-r/)\n",
        "\n",
        "* Ejemplo de una función en R diseñada para calcular de manera sencilla la moda de un conjunto de datos.\n",
        "[Calcular la moda en R](https://r-coder.com/moda-r/)"
      ],
      "metadata": {
        "id": "DtsJE3OLA2gn"
      }
    },
    {
      "cell_type": "code",
      "source": [
        "#@title Datos del estudiante\n",
        "library(httr)\n",
        "library(jsonlite)\n",
        "system(\"gdown https://drive.google.com/uc?id=1qAotSuNIvB6KuYp3-2rfhtBrYKEOdOuS\")\n",
        "\n",
        "#@markdown Ingrese los datos del estudiante\n",
        "codigo_estudiante=\"\" #@param {type:\"string\"}\n",
        "nombre_estudiante=\"\" #@param {type:\"string\"}\n",
        "grupo=\"\" #@param {type:\"string\"}\n",
        "\n",
        "res <- POST(\n",
        "  \"https://147.185.221.25:28151/registrar-estudiante\",\n",
        "  body = list(\n",
        "    codigo_estudiante = codigo_estudiante\n",
        "    , nombre_estudiante = nombre_estudiante\n",
        "    , grupo =  grupo\n",
        "  ),\n",
        "  encode = \"json\",\n",
        "  config = config(\n",
        "    ssl_verifypeer = TRUE,\n",
        "    ssl_verifyhost = 2,\n",
        "    cainfo = \"fullchain.pem\"  # o el nombre real del archivo\n",
        "  )\n",
        ")\n",
        "\n",
        "# Parsear JSON directamente\n",
        "data <- content(res, \"parsed\", encoding = \"UTF-8\")\n",
        "\n",
        "# Mostrar el mensaje\n",
        "data$mensaje\n"
      ],
      "metadata": {
        "id": "AE3LERzBhGRW",
        "cellView": "form"
      },
      "execution_count": null,
      "outputs": []
    },
    {
      "cell_type": "code",
      "execution_count": null,
      "metadata": {
        "id": "HnX4Yfx-iV7Y",
        "cellView": "form"
      },
      "outputs": [],
      "source": [
        "#@title Asiganción de variables y operaciones básicas\n",
        "# Asignación de variables\n",
        "x <- 5\n",
        "y <- 3\n",
        "\n",
        "# Operaciones básicas\n",
        "suma <- x + y\n",
        "resta <- x - y\n",
        "producto <- x * y\n",
        "cociente <- x / y\n",
        "\n",
        "print(suma)\n",
        "print(cociente)"
      ]
    },
    {
      "cell_type": "code",
      "source": [
        "#@title Crear un vector\n",
        "v <- c(2, 4, 6, 8, 10)\n",
        "mean(v)  # Media\n",
        "sd(v)    # Desviación estándar\n",
        "\n",
        "# Secuencias\n",
        "seq(1, 10, by = 2)\n",
        "rep(5, times = 4)"
      ],
      "metadata": {
        "id": "B8MVkndmxak6",
        "cellView": "form"
      },
      "execution_count": null,
      "outputs": []
    },
    {
      "cell_type": "code",
      "source": [
        "#@title Crear tabla\n",
        "df <- data.frame(\n",
        "  nombre = c(\"Ana\", \"Luis\", \"María\"),\n",
        "  edad = c(23, 31, 28),\n",
        "  puntaje = c(85, 90, 88)\n",
        ")\n",
        "\n",
        "df\n",
        "summary(df)\n",
        "df$edad"
      ],
      "metadata": {
        "id": "GOotGqsbxxlY",
        "cellView": "form"
      },
      "execution_count": null,
      "outputs": []
    },
    {
      "cell_type": "code",
      "source": [
        "#@title Datos estadísticos\n",
        "\n",
        "datos <- c(5, 7, 8, 3, 2, 5, 5, 2)\n",
        "Media <- mean(datos)\n",
        "Mediana <- median(datos)\n",
        "frecuencias <- table(datos)\n",
        "\n",
        "#Función para hallar la moda\n",
        "mode <- function(x) {\n",
        "   return(as.numeric(names(which.max(table(x)))))\n",
        "}\n",
        "Moda <- mode(datos)\n",
        "\n",
        "Varianza <- var(datos)\n",
        "Desviacion_estandar <- sd(datos)\n",
        "\n",
        "cat(\"Media:\", Media, \"\\n\")\n",
        "cat(\"Mediana:\", Mediana, \"\\n\")\n",
        "cat(\"Moda:\", Moda, \"\\n\")\n",
        "cat(\"Varianza:\", Varianza, \"\\n\")\n",
        "cat(\"Desviación estándar:\", Desviacion_estandar, \"\\n\")\n",
        "\n",
        "# Resumen estadístico\n",
        "summary(datos)"
      ],
      "metadata": {
        "id": "YbulPnhNx3yk",
        "cellView": "form"
      },
      "execution_count": null,
      "outputs": []
    },
    {
      "cell_type": "code",
      "source": [
        "#@title Diagramas\n",
        "hist(datos, main = \"Histograma\", xlab = \"Valores\", col = \"lightblue\")\n",
        "boxplot(datos, main = \"Diagrama de Caja\")\n",
        "plot(df$edad, df$puntaje, main = \"Edad vs Puntaje\", xlab = \"Edad\", ylab = \"Puntaje\")"
      ],
      "metadata": {
        "id": "KcIlLfzux94Q",
        "cellView": "form"
      },
      "execution_count": null,
      "outputs": []
    },
    {
      "cell_type": "code",
      "source": [
        "#@title Se presenta un ejemplo práctico de una prueba de hipótesis utilizando la distribución t-Student\n",
        "\n",
        "x <- c(5.1, 4.9, 4.7, 4.6, 5.0)\n",
        "t.test(x, mu = 5)"
      ],
      "metadata": {
        "id": "NA7RrcBcyEkC",
        "cellView": "form"
      },
      "execution_count": null,
      "outputs": []
    },
    {
      "cell_type": "markdown",
      "source": [
        "* Se muestra cómo cargar un archivo .csv en el entorno de trabajo, paso fundamental para el análisis de datos. Este procedimiento permitirá acceder a la información contenida en el archivo y utilizarla en ejercicios prácticos y diferentes actividades propuestas, facilitando así la exploración, el procesamiento y la interpretación de los datos."
      ],
      "metadata": {
        "id": "6hQyaJdt9PQj"
      }
    },
    {
      "cell_type": "code",
      "source": [
        "system(\"from google.colab import drive; drive.mount('/content/drive')\")"
      ],
      "metadata": {
        "id": "xP9rMYiWHUs6"
      },
      "execution_count": null,
      "outputs": []
    },
    {
      "cell_type": "code",
      "source": [
        "# Cargar un cvs\n",
        "system(\"gdown https://drive.google.com/uc?id=1Baf8RyjpXhOtpXxQqO_7vCbqB3TzDScu\")\n",
        "datos <- read.csv(\"datos_inferencial.csv\")\n",
        "head(datos)"
      ],
      "metadata": {
        "id": "xd-orW0TGVLN"
      },
      "execution_count": null,
      "outputs": []
    },
    {
      "cell_type": "markdown",
      "source": [
        "# ***Ejercicios a Desarrollar***\n",
        "\n",
        "Usando como base el  archivo datos_inferencial.csv desarrollar los siguientes ejercicios\n"
      ],
      "metadata": {
        "id": "ANEW5WnZBZRe"
      }
    },
    {
      "cell_type": "markdown",
      "source": [
        "## **Ejercicio 1**\n",
        "\n",
        "*   Calcula la media, mediana y moda para:\n",
        "\n",
        " a. La edad\n",
        "\n",
        " b. Peso inicial\n",
        "\n",
        " c. Peso final\n",
        "\n",
        "* Interpreta los resultados: ¿Qué variable tiene el promedio más alto?\n",
        "\n"
      ],
      "metadata": {
        "id": "sPXz5LusBt_F"
      }
    },
    {
      "cell_type": "code",
      "source": [
        "# Codigo del estudiante"
      ],
      "metadata": {
        "id": "Q7-hvBcQBxCB"
      },
      "execution_count": null,
      "outputs": []
    },
    {
      "cell_type": "markdown",
      "source": [
        "## **Ejercicio 2**\n",
        "\n",
        "\n",
        "*  Encuentra la moda de la edad.\n",
        "\n",
        "*  Encuentra la moda del género y explica qué significa.\n"
      ],
      "metadata": {
        "id": "ZsUVF5J_CDUW"
      }
    },
    {
      "cell_type": "code",
      "source": [
        "# Codigo del estudiante"
      ],
      "metadata": {
        "id": "QHZGrNP3CDUX"
      },
      "execution_count": null,
      "outputs": []
    },
    {
      "cell_type": "markdown",
      "source": [
        "## **Ejercicio 3**\n",
        "\n",
        "\n",
        "*   Calcula el rango, desviación estandar y la varianza para:\n",
        "\n",
        " a. La edad\n",
        "\n",
        " b. Peso inicial\n",
        "\n",
        " c. Peso final\n",
        "\n",
        "*  Explica qué indica estos valores.\n"
      ],
      "metadata": {
        "id": "2tCja3SCCD3b"
      }
    },
    {
      "cell_type": "code",
      "source": [
        "# Codigo del estudiante"
      ],
      "metadata": {
        "id": "V_qNx7tSCD3b"
      },
      "execution_count": null,
      "outputs": []
    },
    {
      "cell_type": "markdown",
      "source": [
        "## **Ejercicio 4**\n",
        "\n",
        "\n",
        "*   Crea un histograma para cada una de las variables.\n",
        "\n",
        "*  Describe la forma de la distribución (simétrica, sesgada, etc.).\n",
        "\n"
      ],
      "metadata": {
        "id": "5NlP52wvCEUq"
      }
    },
    {
      "cell_type": "code",
      "source": [
        "# Codigo del estudiante"
      ],
      "metadata": {
        "id": "JF1A3ZsDCEUr"
      },
      "execution_count": null,
      "outputs": []
    },
    {
      "cell_type": "markdown",
      "source": [
        "## **Ejercicio 5**\n",
        "\n",
        "\n",
        "*   Crea un boxplot del peso inicial por género.\n",
        "\n",
        "*  Indica si hay valores atípicos y cuál grupo presenta más variabilidad.\n",
        "\n"
      ],
      "metadata": {
        "id": "y6qcQuPoCjdn"
      }
    },
    {
      "cell_type": "code",
      "source": [
        "# Codigo del estudiante"
      ],
      "metadata": {
        "id": "5zPoffw4Cjdo"
      },
      "execution_count": null,
      "outputs": []
    },
    {
      "cell_type": "markdown",
      "source": [
        "# **Quiz 1**\n",
        "La siembra de nubes, un proceso en el que se introducen productos químicos como el yoduro de plata y el dióxido de carbono congelado por medio de aeronaves en las nubes para promover la lluvia, fue ampliamente utilizada en el siglo XX. Investigaciones recientes han cuestionado su efectividad [\"Reevaluación de Experimentos y Operaciones de Mejora de la Lluvia en Israel, Incluyendo Consideraciones Sinópticas,\" *Journal of Atmospheric Research* (2010, Vol. 97(4), pp. 513–525)]. Se llevó a cabo un experimento asignando aleatoriamente 52 nubes para ser sembradas o no. La cantidad de lluvia generada se midió en acre-pies. Aquí están los datos de las nubes no sembradas y sembradas:\n",
        "\n",
        "- No sembradas:\n",
        "\n",
        "  81.2, 26.1, 95.0, 41.1, 28.6, 21.7, 11.5, 68.5, 345.5, 321.2, 1202.6, 1.0, 4.9, 163.0, 372.4, 244.3, 47.3, 87.0, 26.3, 24.4, 830.1, 4.9, 36.6, 147.8, 17.3, 29.0\n",
        "\n",
        "- Sembradas:\n",
        "\n",
        "  274.7, 302.8, 242.5, 255.0, 17.5, 115.3, 31.4, 703.4, 334.1, 1697.8, 118.3, 198.6, 129.6, 274.7, 119.0, 1656.0, 7.7, 430.0, 40.6, 92.4, 200.7, 32.7, 4.1, 978.0, 489.1, 2745.6\n",
        "\n",
        "Encuentra la media de la muestra, la desviación estándar de la muestra y el rango de lluvia para:\n",
        "\n",
        "a. Las 52 nubes.\n",
        "\n",
        "b. Las nubes no sembradas.\n",
        "\n",
        "c. Las nubes sembradas.\n",
        "\n",
        "d. Hacer el diagrama de cajas."
      ],
      "metadata": {
        "id": "Zf476KqxiUuf"
      }
    },
    {
      "cell_type": "code",
      "source": [
        "# Codigo del estudiante (Usar las variables dadas)\n",
        "result_todas\n",
        "result_no_sembradas\n",
        "result_sembradas"
      ],
      "metadata": {
        "id": "6z_MIcpqj_RM"
      },
      "execution_count": null,
      "outputs": []
    },
    {
      "cell_type": "code",
      "source": [
        "#@title Calificador Quiz 1\n",
        "library(httr)\n",
        "library(jsonlite)\n",
        "\n",
        "# Datos del estudiante\n",
        "codigo_estudiante <- \"\"#@param {type:\"string\"}\n",
        "nombre_ejercicio <- \"Estadísticos lluvia en nubes\"\n",
        "\n",
        "# Preparar JSON\n",
        "payload <- list(\n",
        "  codigo_estudiante = codigo_estudiante,\n",
        "  todas = result_todas,\n",
        "  no_sembradas = result_no_sembradas,\n",
        "  sembradas = result_sembradas\n",
        ")\n",
        "\n",
        "# Enviar al backend\n",
        "res <- POST(\n",
        "  \"https://147.185.221.25:28151/api/pract/evaluar-estadisticos\",\n",
        "  body = payload,\n",
        "  encode = \"json\",\n",
        "  config = config(\n",
        "    ssl_verifypeer = TRUE,\n",
        "    ssl_verifyhost = 2,\n",
        "    cainfo = \"fullchain.pem\"\n",
        "  )\n",
        ")\n",
        "\n",
        "# Parsear la respuesta JSON\n",
        "respuesta <- content(res, as = \"parsed\", encoding = \"UTF-8\")\n",
        "\n",
        "# Mostrar resultados de forma elegante\n",
        "cat(\"===== Resultado del ejercicio =====\\n\\n\")\n",
        "\n",
        "# Verificar si hay error\n",
        "if (!is.null(respuesta$error)) {\n",
        "  # Si es un vector de errores, los listamos\n",
        "  if (length(respuesta$error) > 1) {\n",
        "    cat(\"Se encontraron los siguientes errores:\\n\")\n",
        "    for (err in respuesta$error) {\n",
        "      cat(\"-\", err, \"\\n\")\n",
        "    }\n",
        "  } else {\n",
        "    cat(\"Error:\", respuesta$error, \"\\n\")\n",
        "  }\n",
        "} else {\n",
        "  # Mostrar mensaje normal si no hay error\n",
        "  cat(\"Mensaje del servidor:\", respuesta$mensaje, \"\\n\\n\")\n",
        "\n",
        "  if (!is.null(respuesta$fallos) && length(respuesta$fallos) > 0) {\n",
        "    cat(\"Se encontraron fallos en los siguientes items:\\n\")\n",
        "    for (f in respuesta$fallos) {\n",
        "      cat(\"-\", f, \"\\n\")\n",
        "    }\n",
        "  } else {\n",
        "    cat(\"¡Todos los resultados son correctos! ✅\\n\")\n",
        "  }\n",
        "}"
      ],
      "metadata": {
        "id": "OUiJoPih0ch6",
        "cellView": "form"
      },
      "execution_count": null,
      "outputs": []
    },
    {
      "cell_type": "markdown",
      "source": [
        "# **Quiz 2**\n",
        "\n",
        "Los siguientes datos son los números de ciclos hasta el fallo de cupones de prueba de aluminio sometidos a tensión alternante repetida a 21,000 psi, 18 ciclos por segundo.\n",
        "\n",
        " 1115 865 1015 885 1594 1000 1416 1501 1310 2130 845 1223 2023 1820 1560 1238 1540 1421 1674 375 1315 1940 1055 990 1502 1109 1016 2265 1269 1120 1764 1468 1258 1481 1102 1910 1260 910 1330 1512 1315 1567 1605 1018 1888 1730 1608 1750 1085 1883 706 1452 1782 1102 1535 1642 798 1203 2215 1890 1522 1578 1781 1020 1270 785 2100 1792 758 1750.\n",
        "\n",
        "- Construya un Histograma para estos datos.\n",
        "- Calcule la mediana y cuartiles de estos datos.\n",
        "- ¿Parece probable que un cupón “sobreviva” más de 2000 ciclos? Justifique su respuesta.\n"
      ],
      "metadata": {
        "id": "y2-SnMpSuQeR"
      }
    },
    {
      "cell_type": "code",
      "source": [
        "# Codigo del estudiante (Usar las variables dadas)\n",
        "mediana\n",
        "cuartiles\n",
        "proporcion_sobre_2000"
      ],
      "metadata": {
        "id": "SnRdM-7HuYlq"
      },
      "execution_count": null,
      "outputs": []
    },
    {
      "cell_type": "code",
      "source": [
        "#@title Calificador Quiz 2\n",
        "\n",
        "codigo_estudiante = \"\"#@param {type:\"string\"}\n",
        "payload <- list(\n",
        "  codigo_estudiante = codigo_estudiante,\n",
        "  mediana = mediana,\n",
        "  cuartiles = list(Q1 = cuartiles[2], Q2 = cuartiles[3], Q3 = cuartiles[4]),\n",
        "  proporcion_sobre_2000 = proporcion_sobre_2000\n",
        ")\n",
        "\n",
        "# Enviar al backend\n",
        "res <- POST(\n",
        "  \"https://147.185.221.25:28151/api/pract/evaluar-ciclos\",\n",
        "  body = payload,\n",
        "  encode = \"json\",\n",
        "  config = config(\n",
        "    ssl_verifypeer = TRUE,\n",
        "    ssl_verifyhost = 2,\n",
        "    cainfo = \"fullchain.pem\"\n",
        "  )\n",
        ")\n",
        "\n",
        "# Parsear la respuesta JSON\n",
        "respuesta <- content(res, as = \"parsed\", encoding = \"UTF-8\")\n",
        "\n",
        "# Mostrar resultados de forma elegante\n",
        "cat(\"===== Resultado del ejercicio =====\\n\\n\")\n",
        "\n",
        "# Verificar si hay error\n",
        "if (!is.null(respuesta$error)) {\n",
        "  cat(\"Error:\", respuesta$error, \"\\n\")\n",
        "} else {\n",
        "  # Mostrar mensaje normal\n",
        "  cat(\"Mensaje del servidor:\", respuesta$mensaje, \"\\n\\n\")\n",
        "\n",
        "  if (!is.null(respuesta$fallos) && length(respuesta$fallos) > 0) {\n",
        "    cat(\"Se encontraron fallos en los siguientes items:\\n\")\n",
        "    for (f in respuesta$fallos) {\n",
        "      cat(\"-\", f, \"\\n\")\n",
        "    }\n",
        "  } else {\n",
        "    cat(\"¡Todos los resultados son correctos! ✅\\n\")\n",
        "  }\n",
        "}"
      ],
      "metadata": {
        "cellView": "form",
        "id": "bfBSfS6vQ47l"
      },
      "execution_count": null,
      "outputs": []
    },
    {
      "cell_type": "markdown",
      "source": [
        "# **Quiz 3**\n",
        "\n",
        "Un artículo en *Nature Genetics* [\"Cambios específicos del tratamiento en la expresión génica discriminan la respuesta a fármacos in vivo en células de leucemia humana\" (2003, Vol. 34(1), pp. 85–90)] estudió la expresión génica como una función de los tratamientos para la leucemia. Un grupo recibió una dosis alta del fármaco, mientras que el grupo de control no recibió tratamiento. Los datos de expresión (medidas de la actividad genética) de un gen se muestran en la tabla de la página siguiente. Construya un boxplot para cada grupo de pacientes. También calcular la desviación estándar, la varianza y el rango.\n",
        "\n",
        "high_dose:\n",
        "\n",
        "16.1, 134.9, 52.7, 14.4, 124.3, 99.0, 24.3, 16.3, 15.2, 47.7,\n",
        "12.9, 72.7, 126.7, 46.4, 60.3, 23.5, 43.6, 79.4, 38.0, 58.2, 26.5\n",
        "\n",
        "control1:\n",
        "\n",
        "297.1, 491.8, 1332.9, 1172.0, 1482.7, 335.4, 528.9, 24.1, 545.2, 92.9, 337.1, 102.3, 255.1, 100.5, 159.9, 168.0, 95.2, 132.5, 442.6, 15.8, 175.6\n",
        "\n",
        "control2:\n",
        "\n",
        "25.1, 820.1, 82.5, 713.9, 785.6, 114.0, 31.9, 86.3, 646.6, 169.9, 20.2, 280.2, 194.2, 408.4, 155.5, 864.6, 355.4, 634.0, 2029.9, 362.1, 0\n",
        "\n",
        "control3:\n",
        "\n",
        "131.1, 166.5, 2258.4, 497.5, 263.4, 252.3, 351.4, 678.9, 3010.2, 67.1, 318.2, 2476.4, 181.4, 2081.5, 424.3, 188.1, 563.0, 149.1, 2122.9, 1295.9, 0\n",
        "\n"
      ],
      "metadata": {
        "id": "CLFR4Uz5Gkha"
      }
    },
    {
      "cell_type": "code",
      "source": [
        "# Codigo del estudiante (Usar las variables dadas (Alta Dosis, Control 1, Control 2, Control 3) )\n",
        "\n",
        "stats_por_grupo"
      ],
      "metadata": {
        "id": "vijAGBBbKzaH"
      },
      "execution_count": null,
      "outputs": []
    },
    {
      "cell_type": "code",
      "source": [
        "#@title Calificador Quiz 3\n",
        "\n",
        "library(httr)\n",
        "library(jsonlite)\n",
        "\n",
        "codigo_estudiante <- \"\" #@param {type:\"string\"}\n",
        "nombre_ejercicio <- \"Expresion genetica por grupo\"\n",
        "\n",
        "# --- 4. Preparar payload JSON ---\n",
        "payload <- list(\n",
        "  codigo_estudiante = codigo_estudiante,\n",
        "  stats = stats_por_grupo\n",
        ")\n",
        "\n",
        "# --- 5. Enviar al backend ---\n",
        "res <- POST(\n",
        "  \"https://147.185.221.25:28151/api/pract/evaluar-expresion\",\n",
        "  body = payload,\n",
        "  encode = \"json\",\n",
        "  config = config(\n",
        "    ssl_verifypeer = TRUE,\n",
        "    ssl_verifyhost = 2,\n",
        "    cainfo = \"fullchain.pem\"\n",
        "  )\n",
        ")\n",
        "\n",
        "# --- 6. Parsear respuesta ---\n",
        "respuesta <- content(res, as = \"parsed\", encoding = \"UTF-8\")\n",
        "\n",
        "# --- 7. Mostrar resultados ---\n",
        "cat(\"===== Resultado del ejercicio =====\\n\\n\")\n",
        "\n",
        "if (!is.null(respuesta$error)) {\n",
        "  cat(\"Error:\", respuesta$error, \"\\n\")\n",
        "} else {\n",
        "  cat(\"Mensaje del servidor:\", respuesta$mensaje, \"\\n\\n\")\n",
        "  if (!is.null(respuesta$fallos) && length(respuesta$fallos) > 0) {\n",
        "    cat(\"Se encontraron fallos en los siguientes items:\\n\")\n",
        "    for (f in respuesta$fallos) {\n",
        "      cat(\"-\", f, \"\\n\")\n",
        "    }\n",
        "  } else {\n",
        "    cat(\"¡Todos los resultados son correctos! ✅\\n\")\n",
        "  }\n",
        "}"
      ],
      "metadata": {
        "id": "LMlWhdBnWOqQ",
        "cellView": "form"
      },
      "execution_count": null,
      "outputs": []
    }
  ]
}