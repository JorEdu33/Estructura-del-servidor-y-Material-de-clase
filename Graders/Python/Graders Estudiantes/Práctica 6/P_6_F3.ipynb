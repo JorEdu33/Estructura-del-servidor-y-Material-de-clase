{
  "nbformat": 4,
  "nbformat_minor": 0,
  "metadata": {
    "colab": {
      "provenance": []
    },
    "kernelspec": {
      "name": "python3",
      "display_name": "Python 3"
    },
    "language_info": {
      "name": "python"
    }
  },
  "cells": [
    {
      "cell_type": "code",
      "source": [
        "#@title Datos del estudiante\n",
        "\n",
        "import requests\n",
        "!gdown \"https://drive.google.com/uc?id=1qAotSuNIvB6KuYp3-2rfhtBrYKEOdOuS\"\n",
        "\n",
        "#@markdown Ingrese los datos del estudiante\n",
        "codigo_estudiante = \"\" #@param {type:\"string\"}\n",
        "nombre_estudiante = \"\" #@param {type:\"string\"}\n",
        "grupo = \"F3\"           #@param {type:\"string\"}\n",
        "\n",
        "\n",
        "url = \"https://147.185.221.25:28151/registrar-estudiante\"\n",
        "\n",
        "payload = {\n",
        "    \"codigo_estudiante\": codigo_estudiante,\n",
        "    \"nombre_estudiante\": nombre_estudiante,\n",
        "    \"grupo\": grupo\n",
        "}\n",
        "\n",
        "res = requests.post(url, json=payload, verify=\"fullchain.pem\")\n",
        "\n",
        "data = res.json()\n",
        "\n",
        "print(data.get(\"mensaje\"))\n"
      ],
      "metadata": {
        "cellView": "form",
        "id": "mMY-A8kz3Z9U"
      },
      "execution_count": null,
      "outputs": []
    },
    {
      "cell_type": "code",
      "source": [
        "#@title Librerías\n",
        "import numpy as np\n",
        "from scipy.stats import t\n",
        "from scipy.stats import norm\n",
        "import inspect"
      ],
      "metadata": {
        "cellView": "form",
        "id": "_h21WvIuXhbx"
      },
      "execution_count": null,
      "outputs": []
    },
    {
      "cell_type": "markdown",
      "source": [
        "# **Quiz 1**\n",
        "\n",
        "Se comparan dos productos energéticos, EnergyMax y EnergyPlus, con medias muestrales $\\bar{X}_1 = 8.3$ y $\\bar{X}_2 = 6.7$ varianzas conocidas $\\sigma_1^2 = 1.5$ y $\\sigma_2^2 = 1.8$, y tamaños muestrales $n_1 = 40$ y $n_2 = 35$, respectivamente.\n",
        "\n",
        "Se desea, con un nivel de significancia de $α=0.05$, probar si existe una diferencia significativa entre las medias poblacionales del incremento en la frecuencia cardíaca, así como calcular el error tipo II ($β$) si la diferencia real es $δ=1$.\n",
        "\n",
        "Además, determine el tamaño de muestra necesario para que $β=0.1$ al detectar una diferencia real de $δ=1$."
      ],
      "metadata": {
        "id": "8dmvtVeJUf9b"
      }
    },
    {
      "cell_type": "code",
      "source": [
        "def analisis_z():\n",
        "\n",
        "\n",
        "    return {\n",
        "        \"Z0\": ,\n",
        "        \"Valor crítico inferior\": ,\n",
        "        \"Valor crítico superior\": ,\n",
        "        \"Decisión\": ,\n",
        "        \"P-valor\": ,\n",
        "        \"Límite inferior IC\": ,\n",
        "        \"Límite superior IC\": ,\n",
        "        \"Error tipo II (β)\": ,\n",
        "        \"Potencia\": ,\n",
        "        \"Tamaño de muestra aproximado\":\n",
        "    }"
      ],
      "metadata": {
        "id": "_YZc2v3D3gdH"
      },
      "execution_count": null,
      "outputs": []
    },
    {
      "cell_type": "code",
      "source": [
        "#@title Calificador Ejercicio 1 - Práctica 6 - F3\n",
        "resultados = analisis_z()\n",
        "\n",
        "codigo_funcion = inspect.getsource(analisis_z)\n",
        "\n",
        "codigo_estudiante = \"\"  #@param {type:\"string\"}\n",
        "nombre_ejercicio = \"Ejercicio 1 - Práctica 6 - F3\"\n",
        "\n",
        "payload = {\n",
        "    \"codigo_estudiante\": codigo_estudiante,\n",
        "    \"estadistico_z\": resultados[\"Z0\"],\n",
        "    \"valor_critico_inferior\": resultados[\"Valor crítico inferior\"],\n",
        "    \"valor_critico_superior\": resultados[\"Valor crítico superior\"],\n",
        "    \"decision\": resultados[\"Decisión\"],\n",
        "    \"p_valor\": resultados[\"P-valor\"],\n",
        "    \"limite_inferior_ic\": resultados[\"Límite inferior IC\"],\n",
        "    \"limite_superior_ic\": resultados[\"Límite superior IC\"],\n",
        "    \"error_tipo_II\": resultados[\"Error tipo II (β)\"],\n",
        "    \"potencia\": resultados[\"Potencia\"],\n",
        "    \"tamano_muestra_aprox\": resultados[\"Tamaño de muestra aproximado\"],\n",
        "    \"codigo_funcion\": codigo_funcion\n",
        "}\n",
        "\n",
        "url = \"https://147.185.221.25:28151/api/pract/ejer1-prac6-F3\"\n",
        "res = requests.post(url, json=payload, verify=\"fullchain.pem\")\n",
        "respuesta_servidor = res.json()\n",
        "\n",
        "# --- Mostrar resultados ---\n",
        "print(\"===== Resultado del ejercicio =====\\n\")\n",
        "\n",
        "if \"error\" in respuesta_servidor and respuesta_servidor[\"error\"]:\n",
        "    if isinstance(respuesta_servidor[\"error\"], list):\n",
        "        print(\"Se encontraron los siguientes errores:\")\n",
        "        for err in respuesta_servidor[\"error\"]:\n",
        "            print(\"-\", err)\n",
        "    else:\n",
        "        print(\"Error:\", respuesta_servidor[\"error\"])\n",
        "else:\n",
        "    print(\"Mensaje del servidor:\", respuesta_servidor.get(\"mensaje\"))\n",
        "    print(\"Aciertos:\", respuesta_servidor.get(\"aciertos\"), \"\\n\")\n",
        "\n",
        "    fallos = respuesta_servidor.get(\"fallos\", [])\n",
        "    if fallos:\n",
        "        print(\"Se encontraron fallos en los siguientes ítems:\")\n",
        "        for f in fallos:\n",
        "            print(\"-\", f)\n",
        "    else:\n",
        "        print(\"¡Todos los resultados son correctos! ✅\")\n"
      ],
      "metadata": {
        "cellView": "form",
        "id": "2YJDpk_U4Aex"
      },
      "execution_count": null,
      "outputs": []
    },
    {
      "cell_type": "markdown",
      "source": [
        "# **Quiz 2**\n",
        "\n",
        "\n",
        "Se comparan dos medicamentos, A y B, para evaluar su efecto en la reducción de la presión arterial, con medias muestrales $\\bar{X}_1 = 10.2$ y $\\bar{X}_2 = 8.5$, desviaciones estándar $s_1 = 2.5$ y $s_2 = 1.9$, y tamaños muestrales $n_1 = 15$ y $n_2 = 15$, respectivamente.\n",
        "\n",
        "Se desea, con un nivel de significancia $\\alpha = 0.05$, probar si existe una diferencia significativa entre los efectos promedio de ambos medicamentos, utilizando la varianza combinada y los grados de libertad $df = n_1 + n_2 - 2$; además, se solicita calcular el intervalo de confianza bilateral del 95% y estimar el error tipo II ($\\beta$) para una diferencia real de $δ=2$.\n",
        "\n",
        "Si la potencia mínima es 0.9, asumiendo una diferencia real $\\delta = 2$, determinar el tamaño de muestra.\n"
      ],
      "metadata": {
        "id": "iXmK_GVwUfoV"
      }
    },
    {
      "cell_type": "code",
      "source": [
        "def medicamento():\n",
        "\n",
        "\n",
        "    return {\n",
        "        \"Estadístico t\": ,\n",
        "        \"Valor crítico inferior\": ,\n",
        "        \"Valor crítico superior\": ,\n",
        "        \"Decisión\": ,\n",
        "        \"P-valor\": ,\n",
        "        \"Límite inferior IC\": ,\n",
        "        \"Límite superior IC\": ,\n",
        "        \"Potencia\": ,\n",
        "        \"Error tipo II (β)\": ,\n",
        "        \"d\": ,\n",
        "        \"Tamaño de muestra aproximado\":\n",
        "    }"
      ],
      "metadata": {
        "id": "n2VYzcS952dE"
      },
      "execution_count": null,
      "outputs": []
    },
    {
      "cell_type": "code",
      "source": [
        "#@title Calificador Ejercicio 2 - Práctica 6 - F3\n",
        "\n",
        "resultados = medicamento()\n",
        "\n",
        "codigo_funcion = inspect.getsource(medicamento)\n",
        "\n",
        "codigo_estudiante = \"\"  #@param {type:\"string\"}\n",
        "nombre_ejercicio = \"Ejercicio 2 - Práctica 6 - F3\"\n",
        "\n",
        "payload = {\n",
        "    \"codigo_estudiante\": codigo_estudiante,\n",
        "    \"estadistico_t\": resultados[\"Estadístico t\"],\n",
        "    \"valor_critico_inferior\": resultados[\"Valor crítico inferior\"],\n",
        "    \"valor_critico_superior\": resultados[\"Valor crítico superior\"],\n",
        "    \"decision\": resultados[\"Decisión\"],\n",
        "    \"p_valor\": resultados[\"P-valor\"],\n",
        "    \"limite_inferior_ic\": resultados[\"Límite inferior IC\"],\n",
        "    \"limite_superior_ic\": resultados[\"Límite superior IC\"],\n",
        "    \"potencia\": resultados[\"Potencia\"],\n",
        "    \"error_tipo_II\": resultados[\"Error tipo II (β)\"],\n",
        "    \"d\": resultados[\"d\"],\n",
        "    \"tamano_muestra_aprox\": resultados[\"Tamaño de muestra aproximado\"],\n",
        "    \"codigo_funcion\": codigo_funcion\n",
        "}\n",
        "\n",
        "url = \"https://147.185.221.25:28151/api/pract/ejer2-prac6-F3\"\n",
        "res = requests.post(url, json=payload, verify=\"fullchain.pem\")\n",
        "respuesta_servidor = res.json()\n",
        "\n",
        "# --- Mostrar resultados ---\n",
        "print(\"===== Resultado del ejercicio =====\\n\")\n",
        "\n",
        "if \"error\" in respuesta_servidor and respuesta_servidor[\"error\"]:\n",
        "    if isinstance(respuesta_servidor[\"error\"], list):\n",
        "        print(\"Se encontraron los siguientes errores:\")\n",
        "        for err in respuesta_servidor[\"error\"]:\n",
        "            print(\"-\", err)\n",
        "    else:\n",
        "        print(\"Error:\", respuesta_servidor[\"error\"])\n",
        "else:\n",
        "    print(\"Mensaje del servidor:\", respuesta_servidor.get(\"mensaje\"))\n",
        "    print(\"Aciertos:\", respuesta_servidor.get(\"aciertos\"), \"\\n\")\n",
        "\n",
        "    fallos = respuesta_servidor.get(\"fallos\", [])\n",
        "    if fallos:\n",
        "        print(\"Se encontraron fallos en los siguientes ítems:\")\n",
        "        for f in fallos:\n",
        "            print(\"-\", f)\n",
        "    else:\n",
        "        print(\"¡Todos los resultados son correctos! ✅\")\n"
      ],
      "metadata": {
        "cellView": "form",
        "id": "erooswiO6GSP"
      },
      "execution_count": null,
      "outputs": []
    }
  ]
}