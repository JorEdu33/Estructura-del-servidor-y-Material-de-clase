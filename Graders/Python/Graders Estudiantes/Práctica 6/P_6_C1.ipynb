{
  "nbformat": 4,
  "nbformat_minor": 0,
  "metadata": {
    "colab": {
      "provenance": []
    },
    "kernelspec": {
      "name": "python3",
      "display_name": "Python 3"
    },
    "language_info": {
      "name": "python"
    }
  },
  "cells": [
    {
      "cell_type": "code",
      "source": [
        "#@title Datos del estudiante\n",
        "\n",
        "import requests\n",
        "!gdown \"https://drive.google.com/uc?id=1qAotSuNIvB6KuYp3-2rfhtBrYKEOdOuS\"\n",
        "\n",
        "#@markdown Ingrese los datos del estudiante\n",
        "codigo_estudiante = \"\" #@param {type:\"string\"}\n",
        "nombre_estudiante = \"\" #@param {type:\"string\"}\n",
        "grupo = \"C1\"           #@param {type:\"string\"}\n",
        "\n",
        "\n",
        "url = \"https://147.185.221.25:28151/registrar-estudiante\"\n",
        "\n",
        "payload = {\n",
        "    \"codigo_estudiante\": codigo_estudiante,\n",
        "    \"nombre_estudiante\": nombre_estudiante,\n",
        "    \"grupo\": grupo\n",
        "}\n",
        "\n",
        "res = requests.post(url, json=payload, verify=\"fullchain.pem\")\n",
        "\n",
        "data = res.json()\n",
        "\n",
        "print(data.get(\"mensaje\"))\n"
      ],
      "metadata": {
        "cellView": "form",
        "id": "cx5yDubUtYDQ"
      },
      "execution_count": null,
      "outputs": []
    },
    {
      "cell_type": "code",
      "source": [
        "#@title Librerías\n",
        "import numpy as np\n",
        "from scipy.stats import t\n",
        "from scipy.stats import norm\n",
        "import inspect"
      ],
      "metadata": {
        "cellView": "form",
        "id": "_h21WvIuXhbx"
      },
      "execution_count": null,
      "outputs": []
    },
    {
      "cell_type": "markdown",
      "source": [
        "# **Quiz 1**\n",
        "\n",
        "\n",
        "Una empresa de alimentos desea comparar la consistencia de dos tipos de productos:\n",
        "\n",
        "$$Tipo 1: 275, 286, 287, 271, 283, 271, 279, 275, 263, 267$$\n",
        "\n",
        "$$Tipo 2: 258, 244, 260, 265, 273, 281, 271, 270, 263, 268$$\n",
        "\n",
        "Se desea, con $α=0.05$, probar si las medias son iguales ($\\mu_1 = \\mu_2 \\quad \\text{vs} \\quad H_1: \\mu_1 \\neq \\mu_2 $) utilizando la varianza combinada, calcular el intervalo de confianza del 95%, estimar la potencia y el error tipo II para una diferencia real de $δ=5$.\n",
        "\n",
        "Además, se requiere determinar el tamaño de muestra necesario para detectar una diferencia real de $δ = 5$ con una potencia mínima de 0.85.\n"
      ],
      "metadata": {
        "id": "iXmK_GVwUfoV"
      }
    },
    {
      "cell_type": "code",
      "source": [
        "def Alimentos():\n",
        "\n",
        "    return {\n",
        "        \"Estadístico t\": ,\n",
        "        \"Valor crítico inferior\": ,\n",
        "        \"Valor crítico superior\": ,\n",
        "        \"Decisión\": ,\n",
        "        \"P-valor\": ,\n",
        "        \"Límite inferior IC\": ,\n",
        "        \"Límite superior IC\": ,\n",
        "        \"d\": ,\n",
        "        \"Error tipo II (β)\": ,\n",
        "        \"Potencia\": ,\n",
        "        \"Tamaño de muestra aproximado\":\n",
        "    }"
      ],
      "metadata": {
        "id": "S52BWELHsk4r"
      },
      "execution_count": null,
      "outputs": []
    },
    {
      "cell_type": "code",
      "source": [
        "#@title Calificador Ejercicio 1 - Práctica 6 - C1\n",
        "codigo_funcion = inspect.getsource(Alimentos)\n",
        "\n",
        "codigo_estudiante = \"\"  #@param {type:\"string\"}\n",
        "nombre_ejercicio = \"Ejercicio 1 - Práctica 6 - C1\"\n",
        "\n",
        "payload = {\n",
        "    \"codigo_estudiante\": codigo_estudiante,\n",
        "    \"estadistico_t\": resultados[\"Estadístico t\"],\n",
        "    \"valor_critico_inferior\": resultados[\"Valor crítico inferior\"],\n",
        "    \"valor_critico_superior\": resultados[\"Valor crítico superior\"],\n",
        "    \"decision\": resultados[\"Decisión\"],\n",
        "    \"p_valor\": resultados[\"P-valor\"],\n",
        "    \"limite_inferior_ic\": resultados[\"Límite inferior IC\"],\n",
        "    \"limite_superior_ic\": resultados[\"Límite superior IC\"],\n",
        "    \"potencia\": resultados[\"Potencia\"],\n",
        "    \"error_tipo_II\": resultados[\"Error tipo II (β)\"],\n",
        "    \"d\": resultados[\"d\"],\n",
        "    \"tamano_muestra_aprox\": resultados[\"Tamaño de muestra aproximado\"],\n",
        "    \"codigo_funcion\": codigo_funcion\n",
        "}\n",
        "\n",
        "# --- Enviar al backend (ajusta la URL si tu API usa otra ruta) ---\n",
        "url = \"https://147.185.221.25:28151/api/pract/ejer1-prac6-C1\"\n",
        "res = requests.post(url, json=payload, verify=\"fullchain.pem\")\n",
        "respuesta_servidor = res.json()\n",
        "\n",
        "# --- Mostrar resultados ---\n",
        "print(\"===== Resultado del ejercicio =====\\n\")\n",
        "\n",
        "if \"error\" in respuesta_servidor and respuesta_servidor[\"error\"]:\n",
        "    if isinstance(respuesta_servidor[\"error\"], list):\n",
        "        print(\"Se encontraron los siguientes errores:\")\n",
        "        for err in respuesta_servidor[\"error\"]:\n",
        "            print(\"-\", err)\n",
        "    else:\n",
        "        print(\"Error:\", respuesta_servidor[\"error\"])\n",
        "else:\n",
        "    print(\"Mensaje del servidor:\", respuesta_servidor.get(\"mensaje\"))\n",
        "    print(\"Aciertos:\", respuesta_servidor.get(\"aciertos\"), \"\\n\")\n",
        "\n",
        "    fallos = respuesta_servidor.get(\"fallos\", [])\n",
        "    if fallos:\n",
        "        print(\"Se encontraron fallos en los siguientes ítems:\")\n",
        "        for f in fallos:\n",
        "            print(\"-\", f)\n",
        "    else:\n",
        "        print(\"¡Todos los resultados son correctos! ✅\")"
      ],
      "metadata": {
        "cellView": "form",
        "id": "3AjeVRAztw22"
      },
      "execution_count": null,
      "outputs": []
    },
    {
      "cell_type": "markdown",
      "source": [
        "# **Quiz 2**\n",
        "\n",
        "Se comparan dos procesos con medias muestrales $X_1=18$,$ X_2=14$, varianzas conocidas $\\sigma_1^2=\\sigma_2^2=9$ y tamaños $n_1=n_2=20$.\n",
        "\n",
        "Se desea, con un nivel de significancia de $α=0.05$, probar si existe una diferencia significativa entre las medias poblacionales, construir el intervalo de confianza del 95%, y calcular el error tipo II y la potencia para detectar una diferencia real de 3 unidades.\n",
        "\n",
        "Además, calcule el tamaño de muestra necesario para detectar una diferencia real de 3 unidades con una potencia (probabilidad) mínima de 0.9."
      ],
      "metadata": {
        "id": "8dmvtVeJUf9b"
      }
    },
    {
      "cell_type": "code",
      "source": [
        "def analisis_z():\n",
        "\n",
        "    return {\n",
        "        \"Z0\": ,\n",
        "        \"Valor crítico inferior\": ,\n",
        "        \"Valor crítico superior\": ,\n",
        "        \"Decisión\": ,\n",
        "        \"P-valor\": ,\n",
        "        \"Límite inferior IC\": ,\n",
        "        \"Límite superior IC\": ,\n",
        "        \"Error tipo II (β)\": ,\n",
        "        \"Potencia\": ,\n",
        "        \"Tamaño de muestra aproximado\":\n",
        "    }"
      ],
      "metadata": {
        "id": "N-fsRcHPtAXO"
      },
      "execution_count": null,
      "outputs": []
    },
    {
      "cell_type": "code",
      "source": [
        "#@title Calificador Ejercicio 2 - Práctica 6 - C1\n",
        "\n",
        "resultados = analisis_z()\n",
        "\n",
        "codigo_funcion = inspect.getsource(analisis_z)\n",
        "\n",
        "codigo_estudiante = \"\"  #@param {type:\"string\"}\n",
        "nombre_ejercicio = \"Ejercicio 2 - Práctica 6 - C1\"\n",
        "\n",
        "payload = {\n",
        "    \"codigo_estudiante\": codigo_estudiante,\n",
        "    \"estadistico_z\": resultados[\"Z0\"],\n",
        "    \"valor_critico_inferior\": resultados[\"Valor crítico inferior\"],\n",
        "    \"valor_critico_superior\": resultados[\"Valor crítico superior\"],\n",
        "    \"decision\": resultados[\"Decisión\"],\n",
        "    \"p_valor\": resultados[\"P-valor\"],\n",
        "    \"limite_inferior_ic\": resultados[\"Límite inferior IC\"],\n",
        "    \"limite_superior_ic\": resultados[\"Límite superior IC\"],\n",
        "    \"error_tipo_II\": resultados[\"Error tipo II (β)\"],\n",
        "    \"potencia\": resultados[\"Potencia\"],\n",
        "    \"tamano_muestra_aprox\": resultados[\"Tamaño de muestra aproximado\"],\n",
        "    \"codigo_funcion\": codigo_funcion\n",
        "}\n",
        "\n",
        "url = \"https://147.185.221.25:28151/api/pract/ejer2-prac6-C1\"\n",
        "res = requests.post(url, json=payload, verify=\"fullchain.pem\")\n",
        "respuesta_servidor = res.json()\n",
        "\n",
        "# --- Mostrar resultados ---\n",
        "print(\"===== Resultado del ejercicio =====\\n\")\n",
        "\n",
        "if \"error\" in respuesta_servidor and respuesta_servidor[\"error\"]:\n",
        "    if isinstance(respuesta_servidor[\"error\"], list):\n",
        "        print(\"Se encontraron los siguientes errores:\")\n",
        "        for err in respuesta_servidor[\"error\"]:\n",
        "            print(\"-\", err)\n",
        "    else:\n",
        "        print(\"Error:\", respuesta_servidor[\"error\"])\n",
        "else:\n",
        "    print(\"Mensaje del servidor:\", respuesta_servidor.get(\"mensaje\"))\n",
        "    print(\"Aciertos:\", respuesta_servidor.get(\"aciertos\"), \"\\n\")\n",
        "\n",
        "    fallos = respuesta_servidor.get(\"fallos\", [])\n",
        "    if fallos:\n",
        "        print(\"Se encontraron fallos en los siguientes ítems:\")\n",
        "        for f in fallos:\n",
        "            print(\"-\", f)\n",
        "    else:\n",
        "        print(\"¡Todos los resultados son correctos! ✅\")\n"
      ],
      "metadata": {
        "cellView": "form",
        "id": "m0TRaTpLyCNv"
      },
      "execution_count": null,
      "outputs": []
    }
  ]
}