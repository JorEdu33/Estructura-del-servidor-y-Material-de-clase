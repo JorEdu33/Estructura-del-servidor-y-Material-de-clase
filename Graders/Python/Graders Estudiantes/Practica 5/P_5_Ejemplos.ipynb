{
  "nbformat": 4,
  "nbformat_minor": 0,
  "metadata": {
    "colab": {
      "provenance": []
    },
    "kernelspec": {
      "name": "python3",
      "display_name": "Python 3"
    },
    "language_info": {
      "name": "python"
    }
  },
  "cells": [
    {
      "cell_type": "markdown",
      "source": [
        "# **Ecuaciones**\n",
        "\n",
        "Estadística de prueba $z$:\n",
        "\n",
        "$$z_0 = \\frac{\\bar{x} - \\mu_0}{\\sigma / \\sqrt{n}}$$\n",
        "\n",
        "Aquí $δ=x$ y $z_{α/2}$. A partir de la Ecuación:\n",
        "\n",
        "$$\n",
        "β = Φ (z_{α/2} - \\frac{δ\\sqrt{n}}{σ} ) - Φ (z_{α/2} - \\frac{δ\\sqrt{n}}{σ})\n",
        "$$\n",
        "\n",
        "Ecuación para hallar el posible $n$:\n",
        "\n",
        "$$\n",
        "n≃ \\frac{(z_{α∕2} + z_β)^2 σ^2}{δ^2}\n",
        "$$\n",
        "\n",
        "Estadístico de prueba $t$:\n",
        "\n",
        "$$t_0= \\frac{x−μ_0}{S/\\sqrt{n}}$$\n",
        "\n",
        "Estadístico de prueba $chi^2$:\n",
        "\n",
        "$$χ^2_0 = \\frac{(n-1)s^2}{σ^2_0}$$"
      ],
      "metadata": {
        "id": "fk4O1Q0s7Pz9"
      }
    },
    {
      "cell_type": "code",
      "source": [
        "#@title librerias\n",
        "import numpy as np\n",
        "from scipy.stats import norm\n",
        "from scipy.stats import t\n",
        "from scipy.stats import chi2"
      ],
      "metadata": {
        "id": "qu7V8Ukt8T7A",
        "cellView": "form"
      },
      "execution_count": null,
      "outputs": []
    },
    {
      "cell_type": "markdown",
      "source": [
        "# **Ejemplo 1**\n",
        "\n",
        "Los sistemas de escape de la tripulación aérea están impulsados por un propelente sólido. La tasa de combustión de este propelente es una característica importante del producto. Las especificaciones requieren que la tasa media de combustión debe ser de 50 centímetros por segundo. Sabemos que la desviación estándar de la tasa de combustión es $σ = 2$ centímetros por segundo. El experimentador decide especificar una probabilidad de error tipo I o nivel de significancia de $α = 0.05$ y selecciona una muestra aleatoria de $n = 25$ y obtiene un promedio de la tasa de combustión muestral de $x = 51.3$ centímetros por segundo. ¿Qué conclusiones deberían extraerse?\n",
        "\n",
        "1. Parámetro de interés: El parámetro de interés es μ, la tasa de quema media.\n",
        "2. Hipótesis nula: $H_0: μ = 50$ centímetros por segundo.\n",
        "3. Hipótesis alternativa: $H_1: μ ≠ 50$ centímetros por segundo.\n",
        "4. Estadística de prueba: La estadística de prueba es:\n",
        "\n",
        "$$\n",
        "z_0 = \\frac{\\bar{x} - \\mu_0}{\\sigma / \\sqrt{n}}\n",
        "$$"
      ],
      "metadata": {
        "id": "wBGgO3lamzDo"
      }
    },
    {
      "cell_type": "code",
      "source": [],
      "metadata": {
        "id": "lwpSigxZPuNm"
      },
      "execution_count": null,
      "outputs": []
    },
    {
      "cell_type": "markdown",
      "source": [
        "# **Ejemplo 2**\n",
        "\n",
        "Considere el problema del propulsor de cohete en el Ejemplo 1. Suponga que la verdadera tasa de combustión es de 49 centímetros por segundo. ¿Cuál es $β$ para la prueba bilateral con $α=0.05$, $σ=2$ y $n=25$?\n",
        "\n",
        "Aquí $δ=1$ y $zα/2$. A partir de la Ecuación:\n",
        "\n",
        "$$\n",
        "β = Φ (z_{α/2} - \\frac{δ\\sqrt{n}}{σ} ) - Φ (z_{α/2} - \\frac{δ\\sqrt{n}}{σ})\n",
        "$$\n",
        "\n",
        "La probabilidad es aproximadamente 0.3 que esta diferencia de 50 centímetros por segundo no será detectada. Es decir, la probabilidad es aproximadamente 0.3 que la prueba no rechazará la hipótesis nula cuando la verdadera tasa de combustión es de 49 centímetros por segundo.\n",
        "\n",
        "**Parte 2:**\n",
        "\n",
        "Supongamos que el analista desea diseñar la prueba de manera que, si la media verdadera de la tasa de quema difiere de 50 centímetros por segundo en hasta 1 centímetro por segundo, la prueba podrá detectar esto (es decir, rechazar $H_0:μ=50$) con una alta probabilidad, digamos, 0.90. Ahora notamos que $σ=2$, $δ=51-50=1$, $α=0.05$ y $β=0.10$. El tamaño de muestra requerido para detectar esta desviación de H0:μ=50 se encuentra mediante la Ecuación\n",
        "\n",
        "$$\n",
        "n≃ \\frac{(z_{α∕2} + z_β)^2 σ^2}{δ^2}\n",
        "$$"
      ],
      "metadata": {
        "id": "em_PK7gd0vCl"
      }
    },
    {
      "cell_type": "code",
      "source": [],
      "metadata": {
        "id": "FE0sab-erbJK"
      },
      "execution_count": null,
      "outputs": []
    },
    {
      "cell_type": "markdown",
      "source": [
        "# **Ejemplo 3**\n",
        "\n",
        "Se realizó un experimento en el que se seleccionaron al azar 15 drivers producidos por un fabricante de palos en particular y se midieron sus coeficientes de restitución. En el experimento, las bolas de golf fueron disparadas desde un cañón de aire para que la velocidad de entrada y la tasa de giro de la bola pudieran ser controladas de manera precisa. Es de interés determinar si hay evidencia (con $α=0.05$) que apoye la afirmación de que el coeficiente medio de restitución excede 0.82. Las observaciones son las siguientes:\n",
        "\n",
        " $$0.8411, 0.8191, 0.8182, 0.8125, 0.8750,\n",
        " 0.8580, 0.8532, 0.8483, 0.8276, 0.7983,\n",
        " 0.8042, 0.8730, 0.8282, 0.8359, 0.8660$$\n",
        "\n",
        "1. Parámetro de interés: El parámetro de interés es la media del coeficiente de restitución, $μ$.\n",
        "2. Hipótesis nula: $H_0: μ=0.82$\n",
        "3. Hipótesis alternativa: $H_1: μ>0.82$. Queremos rechazar $H_0$ si la media del coeficiente de restitución excede 0.82.\n",
        "4. Estadístico de prueba: El estadístico de prueba es:\n",
        "\n",
        "$$t_0= \\frac{x−μ_0}{S/\\sqrt{n}}$$\n",
        "\n",
        "5. Rechaza $H_0$ si: Rechaza $H_0$ si el valor $P$ es menor que 0.05."
      ],
      "metadata": {
        "id": "WG131GPL81Rn"
      }
    },
    {
      "cell_type": "code",
      "source": [],
      "metadata": {
        "id": "9PIBjz1Tr3Zo"
      },
      "execution_count": null,
      "outputs": []
    },
    {
      "cell_type": "markdown",
      "source": [
        "# **Ejemplo 4**\n",
        "\n",
        "Considere el problema de prueba del palo de golf del Ejemplo 3. Si el coeficiente de restitución medio excede 0.82 en hasta 0.02, ¿es el tamaño de muestra $n = 15$ adecuado para asegurar que $H_0: μ=0.82$ será rechazado con una probabilidad de al menos 0.8? Para resolver este problema, usamos la desviación estándar muestral $s$ para estimar $σ$. Entonces,\n",
        "\n",
        "$$d = |δ|/σ$$\n",
        "\n",
        "Al referirnos a las curvas de características operativas en el Apéndice Gráfico VIIg (para $α=0.05$)."
      ],
      "metadata": {
        "id": "mG3SGXQB_g4V"
      }
    },
    {
      "cell_type": "code",
      "source": [],
      "metadata": {
        "id": "k2Y221-ur4o8"
      },
      "execution_count": null,
      "outputs": []
    },
    {
      "cell_type": "markdown",
      "source": [
        "# **Ejemplo 5**\n",
        "\n",
        "Se utiliza una máquina de llenado automatizada para llenar botellas con detergente líquido. Una muestra aleatoria de 20 botellas resulta en una varianza de muestra del volumen de llenado de $s^2 = 0.0153(fl.oz)^2$. Si la varianza del volumen de llenado supera $0.01(fl.oz)^2$, una proporción inaceptable de botellas estará subllenadas o sobrellenadas. ¿Hay evidencia en los datos de la muestra que sugiera que el fabricante tiene un problema con botellas subllenadas o sobrellenadas? Use $α=0.05$ y asuma que el volumen de llenado tiene una distribución normal.\n",
        "\n",
        "1. Parámetro de interés: El parámetro de interés es la varianza poblacional σ2.\n",
        "2. Hipótesis nula: $H_0: σ2=0.01$\n",
        "3. Hipótesis alternativa: $H_0: σ2>0.01$\n",
        "4. Estadístico de prueba: El estadístico de prueba es:\n",
        "\n",
        "$$χ^2_0 = \\frac{(n-1)s^2}{σ^2_0}$$\n"
      ],
      "metadata": {
        "id": "aQyOW6m7At8j"
      }
    },
    {
      "cell_type": "code",
      "source": [],
      "metadata": {
        "id": "HLMcYG21r6un"
      },
      "execution_count": null,
      "outputs": []
    },
    {
      "cell_type": "markdown",
      "source": [
        "# **Ejemplo 6**\n",
        "\n",
        "Considere el problema de llenado de botellas del Ejemplo 5. Si la varianza del proceso de llenado excede $0.01(fl.oz)^2$, demasiadas botellas estarán poco llenas. Así, el valor hipotetizado de la desviación estándar es $σ_0 = 0.10$. Supongamos que si la verdadera desviación estándar del proceso de llenado supera este valor en un 25%, nos gustaría detectar esto con una probabilidad de al menos 0.8. ¿Es el tamaño de la muestra de $n = 20$ adecuado? Para resolver este problema, note que requerimos:\n",
        "\n",
        "$$ λ= \\frac{σ}{σ_0}$$\n",
        "\n",
        "Esto es el parámetro de la abscisa para la Gráfica VIIk. A partir de esta gráfica, con $n$ y $λ$ , encontrar $β$.\n",
        "\n",
        "**Parte 2:**\n",
        "\n",
        "Para reducir el error $β$, se debe utilizar un tamaño de muestra más grande. A partir de la curva característica de operación con $β=0.20$ y $λ=1.25$, encontramos que $n=75$, aproximadamente. Por lo tanto, si queremos que la prueba funcione como se requiere, el tamaño de la muestra debe ser al menos 75 botellas."
      ],
      "metadata": {
        "id": "gCZiv1XvWNqx"
      }
    },
    {
      "cell_type": "code",
      "source": [],
      "metadata": {
        "id": "QOgYYyzQr89j"
      },
      "execution_count": null,
      "outputs": []
    }
  ]
}