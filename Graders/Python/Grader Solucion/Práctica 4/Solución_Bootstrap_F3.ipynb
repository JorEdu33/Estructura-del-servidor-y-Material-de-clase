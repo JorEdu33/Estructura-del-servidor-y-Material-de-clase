{
  "nbformat": 4,
  "nbformat_minor": 0,
  "metadata": {
    "colab": {
      "provenance": []
    },
    "kernelspec": {
      "name": "python3",
      "display_name": "Python 3"
    },
    "language_info": {
      "name": "python"
    }
  },
  "cells": [
    {
      "cell_type": "markdown",
      "source": [
        "# **Error estándar(SE) y Bootstrap**\n",
        "\n",
        "##  Método Bootstrap\n",
        "\n",
        "El **Bootstrap** es un procedimiento de remuestreo que permite aproximar la distribución de un estadístico de interés sin necesidad de supuestos fuertes sobre la población.\n",
        "\n",
        "1. A partir de una muestra original de tamaño $n$, se generan $B$ nuevas muestras (con reemplazo).\n",
        "2. En cada remuestra se calcula el estadístico de interés (ej. media, mediana, varianza).\n",
        "3. La colección de estos valores se usa para aproximar la distribución del estadístico.\n",
        "\n",
        "Formalmente, si $\\hat{\\theta}$ es el estimador y $\\hat{\\theta}^*_b$ es el estadístico en la $b$-ésima muestra bootstrap, entonces:\n",
        "\n",
        "$$\n",
        "\\{ \\hat{\\theta}^*_1, \\hat{\\theta}^*_2, \\dots, \\hat{\\theta}^*_B \\}\n",
        "$$\n",
        "\n",
        "aproximan la distribución muestral de $\\hat{\\theta}$.\n",
        "\n",
        "---\n",
        "\n",
        "##  Sesgo (Bias)\n",
        "\n",
        "El **sesgo** mide la diferencia sistemática entre el valor esperado del estimador y el verdadero valor del parámetro:\n",
        "\n",
        "$$\n",
        "\\text{Bias}(\\hat{\\theta}) = E[\\hat{\\theta}] - \\theta\n",
        "$$\n",
        "\n",
        "En Bootstrap se estima como:\n",
        "\n",
        "$$\n",
        "\\widehat{\\text{Bias}} = \\frac{1}{B} \\sum_{b=1}^B \\hat{\\theta}^*_b - \\hat{\\theta}\n",
        "$$\n",
        "\n",
        "donde $\\hat{\\theta}$ es el estadístico de la muestra original.\n",
        "\n",
        "---\n",
        "\n",
        "##  Error Estándar (SE)\n",
        "\n",
        "El **error estándar** refleja la variabilidad de un estimador debido al muestreo. En términos generales:\n",
        "\n",
        "$$\n",
        "SE(\\hat{\\theta}) = \\sqrt{Var(\\hat{\\theta})}\n",
        "$$\n",
        "\n",
        "En Bootstrap se aproxima mediante la desviación estándar de las réplicas bootstrap:\n",
        "\n",
        "$$\n",
        "\\widehat{SE} = \\sqrt{\\frac{1}{B-1} \\sum_{b=1}^B \\left( \\hat{\\theta}^*_b - \\bar{\\theta}^* \\right)^2 }\n",
        "$$\n",
        "\n",
        "donde:\n",
        "\n",
        "$$\n",
        "\\bar{\\theta}^* = \\frac{1}{B} \\sum_{b=1}^B \\hat{\\theta}^*_b\n",
        "$$\n",
        "\n",
        "---\n",
        "\n",
        "\n",
        "## Intervalo confianza basado en SE\n",
        "\n",
        "$$\n",
        "IC_{(1-\\alpha)} = \\left[ \\hat{\\theta} \\; \\pm \\; z_{1-\\alpha/2} \\cdot \\widehat{SE} \\right]\n",
        "$$\n",
        "\n",
        "donde:\n",
        "- $\\hat{\\theta}$: estimador en la muestra original,  \n",
        "- $z_{1-\\alpha/2}$: valor crítico de la normal estándar,  \n",
        "- $\\widehat{SE}$: Error estándar.  \n",
        "\n",
        "\n"
      ],
      "metadata": {
        "id": "wSIULHR4w91I"
      }
    },
    {
      "cell_type": "code",
      "source": [
        "#@title Datos del estudiante\n",
        "\n",
        "import requests\n",
        "!gdown \"https://drive.google.com/uc?id=1qAotSuNIvB6KuYp3-2rfhtBrYKEOdOuS\"\n",
        "\n",
        "#@markdown Ingrese los datos del estudiante\n",
        "codigo_estudiante = \"123\" #@param {type:\"string\"}\n",
        "nombre_estudiante = \"Jorge\" #@param {type:\"string\"}\n",
        "grupo = \"F3\"           #@param {type:\"string\"}\n",
        "\n",
        "\n",
        "url = \"https://147.185.221.25:28151/registrar-estudiante\"\n",
        "\n",
        "payload = {\n",
        "    \"codigo_estudiante\": codigo_estudiante,\n",
        "    \"nombre_estudiante\": nombre_estudiante,\n",
        "    \"grupo\": grupo\n",
        "}\n",
        "\n",
        "res = requests.post(url, json=payload, verify=\"fullchain.pem\")\n",
        "\n",
        "data = res.json()\n",
        "\n",
        "print(data.get(\"mensaje\"))"
      ],
      "metadata": {
        "cellView": "form",
        "id": "Noyy-eoYwlwG",
        "colab": {
          "base_uri": "https://localhost:8080/"
        },
        "outputId": "5dcf5e86-15a8-4e1a-e296-de7cf4f56704"
      },
      "execution_count": 1,
      "outputs": [
        {
          "output_type": "stream",
          "name": "stdout",
          "text": [
            "Downloading...\n",
            "From: https://drive.google.com/uc?id=1qAotSuNIvB6KuYp3-2rfhtBrYKEOdOuS\n",
            "To: /content/fullchain.pem\n",
            "\r  0% 0.00/1.08k [00:00<?, ?B/s]\r100% 1.08k/1.08k [00:00<00:00, 3.16MB/s]\n",
            "Estudiante ya registrado\n"
          ]
        }
      ]
    },
    {
      "cell_type": "code",
      "execution_count": 2,
      "metadata": {
        "id": "AOU8817DkNx9"
      },
      "outputs": [],
      "source": [
        "#@title Librerías\n",
        "import pandas as pd\n",
        "import numpy as np\n",
        "from scipy.stats import norm\n",
        "import inspect"
      ]
    },
    {
      "cell_type": "markdown",
      "source": [
        "# **Quiz 1**\n",
        "\n",
        "Un equipo de ergonomía de software de una empresa tecnológica desea caracterizar la estatura de sus usuarios meta para ajustar los parámetros de visualización de sus interfaces.\n",
        "\n",
        "Se recopiló una muestra aleatoria de n = 40 empleados. Los datos se encuentran en el archivo ergo_antropom.csv.\n",
        "\n",
        "* Estime la mediana poblacional de la altura y evalúe el sesgo y el error estándar con B = 2000 réplicas.\n",
        "* Construya un intervalo de confianza al 90 % para la mediana de la altura.\n",
        "\n",
        "---\n",
        "\n",
        "* **NOTA:** Se solicita no modificar el nombre de las variables ni el código proporcionado, y realizar el desarrollo únicamente dentro de la función."
      ],
      "metadata": {
        "id": "kXh5cI-lvmVN"
      }
    },
    {
      "cell_type": "code",
      "source": [
        "#@title Descargar dataset\n",
        "!gdown \"https://drive.google.com/uc?id=1kX8pAz2_nJe5hIrw_-S3wvEuDP04q4eP\""
      ],
      "metadata": {
        "collapsed": true,
        "cellView": "form",
        "id": "9rKfYbzGksZ8",
        "colab": {
          "base_uri": "https://localhost:8080/"
        },
        "outputId": "01587248-50d9-48ff-b4e6-1c83a150316d"
      },
      "execution_count": 3,
      "outputs": [
        {
          "output_type": "stream",
          "name": "stdout",
          "text": [
            "Downloading...\n",
            "From: https://drive.google.com/uc?id=1kX8pAz2_nJe5hIrw_-S3wvEuDP04q4eP\n",
            "To: /content/ergo_antropom.csv\n",
            "\r  0% 0.00/663 [00:00<?, ?B/s]\r100% 663/663 [00:00<00:00, 2.01MB/s]\n"
          ]
        }
      ]
    },
    {
      "cell_type": "code",
      "source": [
        "def estatura_bootstrap():\n",
        "    # --- Cargar datos ---\n",
        "    df = pd.read_csv(\"ergo_antropom.csv\")\n",
        "\n",
        "    # --- Semilla reproducibilidad ---\n",
        "    np.random.seed(45)\n",
        "\n",
        "    # --- Mediana original ---\n",
        "    m_obs = np.median(df['Altura'])\n",
        "\n",
        "    # --- bootstrap manual ---\n",
        "    B = 2000\n",
        "    n = len(df)\n",
        "    bootstrap_medians = np.zeros((B, 1))\n",
        "    data = df['Altura'].values\n",
        "    for i in range(B):\n",
        "        sample = np.random.choice(data, size=n, replace=True)\n",
        "        med = np.median(sample)\n",
        "        bootstrap_medians[i, 0] = med\n",
        "\n",
        "    # --- bias y SE ---\n",
        "    mean_boot = np.mean(bootstrap_medians)\n",
        "    Bias = round(mean_boot - m_obs, 4)\n",
        "    SE = round(np.std(bootstrap_medians, ddof=1), 4)\n",
        "\n",
        "    # --- intervalo 90 % (normal) ---\n",
        "    alpha = 0.1\n",
        "    z = norm.ppf(1 - alpha/2)\n",
        "    CI_lower = round(m_obs - z * SE, 4)\n",
        "    CI_upper = round(m_obs + z * SE, 4)\n",
        "    # --- resultados ---\n",
        "    print(f\"Mediana: {m_obs:}\")\n",
        "    print(f\"Bias: {Bias:}\")\n",
        "    print(f\"SE: {SE:}\")\n",
        "    print(f\"CI: ({CI_lower} , {CI_upper})\")\n",
        "\n",
        "    # --- Retornar resultados ---\n",
        "    return {\n",
        "        \"Mediana\": m_obs,\n",
        "        \"Bias\": Bias,\n",
        "        \"SE\": SE,\n",
        "        \"CI_lower\":CI_lower,\n",
        "        \"CI_upper\":CI_upper\n",
        "    }\n",
        "\n",
        "respuesta = estatura_bootstrap()\n",
        "\n",
        "\n",
        "codigo_funcion = inspect.getsource(estatura_bootstrap)"
      ],
      "metadata": {
        "id": "rO6CS7Amv_OX",
        "colab": {
          "base_uri": "https://localhost:8080/"
        },
        "outputId": "96262a62-fff1-42b0-833b-d7dcf5b4c28f"
      },
      "execution_count": 4,
      "outputs": [
        {
          "output_type": "stream",
          "name": "stdout",
          "text": [
            "Mediana: 1.71\n",
            "Bias: -0.0011\n",
            "SE: 0.0307\n",
            "CI: (1.6595 , 1.7605)\n"
          ]
        }
      ]
    },
    {
      "cell_type": "code",
      "source": [
        "#@title Calificador Ejercicio 1 - Práctica 4 - F3\n",
        "import requests\n",
        "import inspect\n",
        "\n",
        "# Datos del estudiante\n",
        "codigo_estudiante = \"123\" #@param {type:\"string\"}\n",
        "nombre_ejercicio = \"Ejercicio 1 - Práctica 4 - F3\"\n",
        "\n",
        "# Armar payload con las variables de tu return\n",
        "payload = {\n",
        "    \"codigo_estudiante\": codigo_estudiante,\n",
        "    \"Mediana\": respuesta[\"Mediana\"],\n",
        "    \"Bias\": respuesta[\"Bias\"],\n",
        "    \"SE\": respuesta[\"SE\"],\n",
        "    \"CI_lower\": respuesta[\"CI_lower\"],\n",
        "    \"CI_upper\": respuesta[\"CI_upper\"],\n",
        "    \"codigo_funcion\": codigo_funcion\n",
        "}\n",
        "\n",
        "# Enviar al backend (ajusta la URL al endpoint correcto de práctica 4)\n",
        "url = \"https://147.185.221.25:28151/api/pract/ejer1-prac4-F3\"\n",
        "res = requests.post(url, json=payload, verify=\"fullchain.pem\")\n",
        "respuesta_servidor = res.json()\n",
        "\n",
        "# Mostrar resultados de forma elegante\n",
        "print(\"===== Resultado del ejercicio =====\\n\")\n",
        "\n",
        "if \"error\" in respuesta_servidor and respuesta_servidor[\"error\"]:\n",
        "    if isinstance(respuesta_servidor[\"error\"], list):\n",
        "        print(\"Se encontraron los siguientes errores:\")\n",
        "        for err in respuesta_servidor[\"error\"]:\n",
        "            print(\"-\", err)\n",
        "    else:\n",
        "        print(\"Error:\", respuesta_servidor[\"error\"])\n",
        "else:\n",
        "    print(\"Mensaje del servidor:\", respuesta_servidor.get(\"mensaje\"))\n",
        "    print(\"Aciertos:\", respuesta_servidor.get(\"aciertos\"), \"\\n\")\n",
        "\n",
        "    fallos = respuesta_servidor.get(\"fallos\", [])\n",
        "    if fallos:\n",
        "        print(\"Se encontraron fallos en los siguientes ítems:\")\n",
        "        for f in fallos:\n",
        "            print(\"-\", f)\n",
        "    else:\n",
        "        print(\"¡Todos los resultados son correctos! ✅\")\n"
      ],
      "metadata": {
        "cellView": "form",
        "id": "i9QCxR3qt-lG",
        "colab": {
          "base_uri": "https://localhost:8080/"
        },
        "outputId": "94ebe1a2-4621-4f8f-a35e-2eb618757f76"
      },
      "execution_count": 5,
      "outputs": [
        {
          "output_type": "stream",
          "name": "stdout",
          "text": [
            "===== Resultado del ejercicio =====\n",
            "\n",
            "Mensaje del servidor: Nota: 5\n",
            "Aciertos: 5 \n",
            "\n",
            "¡Todos los resultados son correctos! ✅\n"
          ]
        }
      ]
    },
    {
      "cell_type": "markdown",
      "source": [
        "# **Quiz 2**\n",
        "\n",
        "Un lote de obleas de silicio fue procesado bajo condiciones térmicas estándar. Para cada oblea se midieron: grosor de óxido (nm), temperatura (°C) y tiempo de oxidación (min). Los datos se encuentran en oxido.csv.\n",
        "Estime la mediana poblacional del grosor de óxido y evalúe su sesgo y error estándar mediante bootstrap con 1 000 réplicas. Construya un intervalo de confianza al 98 % suponiendo normalidad asintótica.\n",
        "\n",
        "---\n",
        "\n",
        "* **NOTA:** Se solicita no modificar el nombre de las variables ni el código proporcionado, y realizar el desarrollo únicamente dentro de la función."
      ],
      "metadata": {
        "id": "rtjXY3yhFYjh"
      }
    },
    {
      "cell_type": "code",
      "source": [
        "#@title Descargar dataset\n",
        "!gdown \"https://drive.google.com/uc?id=1iWXBsAzCcZvVyXukfj9jhZ6QjwIw1xW8\""
      ],
      "metadata": {
        "cellView": "form",
        "id": "Hyn3XS2WGonB",
        "colab": {
          "base_uri": "https://localhost:8080/"
        },
        "outputId": "7ce54534-ff5d-4abd-9af0-6de29bd44176"
      },
      "execution_count": 6,
      "outputs": [
        {
          "output_type": "stream",
          "name": "stdout",
          "text": [
            "Downloading...\n",
            "From: https://drive.google.com/uc?id=1iWXBsAzCcZvVyXukfj9jhZ6QjwIw1xW8\n",
            "To: /content/oxido.csv\n",
            "\r  0% 0.00/1.10k [00:00<?, ?B/s]\r100% 1.10k/1.10k [00:00<00:00, 4.16MB/s]\n"
          ]
        }
      ]
    },
    {
      "cell_type": "code",
      "source": [
        "import pandas as pd\n",
        "import numpy as np\n",
        "from scipy.stats import norm\n",
        "\n",
        "def analizar_oxido():\n",
        "    # --- Cargar datos ---\n",
        "    df2 = pd.read_csv(\"oxido.csv\")\n",
        "    np.random.seed(45)\n",
        "\n",
        "    # --- Mediana original ---\n",
        "    m_obs = np.median(df2['Grosor_oxido_nm'])\n",
        "\n",
        "    # --- bootstrap manual ---\n",
        "    B = 1000\n",
        "    n = len(df2)\n",
        "    bootstrap_medians = np.zeros((B, 1))\n",
        "    data = df2['Grosor_oxido_nm'].values\n",
        "    for i in range(B):\n",
        "        sample = np.random.choice(data, size=n, replace=True)\n",
        "        med = np.median(sample)\n",
        "        bootstrap_medians[i, 0] = med\n",
        "\n",
        "    # --- bias y SE ---\n",
        "    mean_boot = np.mean(bootstrap_medians)\n",
        "    Bias = round(mean_boot - m_obs, 4)\n",
        "    SE = round(np.std(bootstrap_medians, ddof=1), 4)\n",
        "\n",
        "    # --- intervalo 98 % (normal) ---\n",
        "    alpha = 0.02\n",
        "    z = norm.ppf(1 - alpha/2)\n",
        "    CI_lower = round(m_obs - z * SE, 4)\n",
        "    CI_upper = round(m_obs + z * SE, 4)\n",
        "\n",
        "# --- resultados ---\n",
        "    print(f\"Mediana: {m_obs:}\")\n",
        "    print(f\"Bias: {Bias:}\")\n",
        "    print(f\"SE: {SE:}\")\n",
        "    print(f\"CI: ({CI_lower} , {CI_upper})\")\n",
        "\n",
        "    # --- retornar resultados ---\n",
        "    return {\n",
        "        \"Mediana\": m_obs,\n",
        "        \"Bias\": Bias,\n",
        "        \"SE\": SE,\n",
        "        \"CI_lower\": CI_lower,\n",
        "        \"CI_upper\":CI_upper\n",
        "    }\n",
        "\n",
        "\n",
        "respuesta = analizar_oxido()\n",
        "\n",
        "\n",
        "codigo_funcion = inspect.getsource(analizar_oxido)\n"
      ],
      "metadata": {
        "id": "OP1jOvMUFUhS",
        "colab": {
          "base_uri": "https://localhost:8080/"
        },
        "outputId": "3e100918-f144-4769-eef8-3a1e75d7d29d"
      },
      "execution_count": 7,
      "outputs": [
        {
          "output_type": "stream",
          "name": "stdout",
          "text": [
            "Mediana: 318.22\n",
            "Bias: 1.833\n",
            "SE: 20.9402\n",
            "CI: (269.5058 , 366.9342)\n"
          ]
        }
      ]
    },
    {
      "cell_type": "code",
      "source": [
        "#@title Calificador Ejercicio 2 - Práctica 4 - F3\n",
        "import requests\n",
        "import inspect\n",
        "\n",
        "# Datos del estudiante\n",
        "codigo_estudiante = \"123\" #@param {type:\"string\"}\n",
        "nombre_ejercicio = \"Ejercicio 2 - Práctica 4 - F3\"\n",
        "\n",
        "# Armar payload con las variables de tu return\n",
        "payload = {\n",
        "    \"codigo_estudiante\": codigo_estudiante,\n",
        "    \"Mediana\": respuesta[\"Mediana\"],\n",
        "    \"Bias\": respuesta[\"Bias\"],\n",
        "    \"SE\": respuesta[\"SE\"],\n",
        "    \"CI_lower\": respuesta[\"CI_lower\"],\n",
        "    \"CI_upper\": respuesta[\"CI_upper\"],\n",
        "    \"codigo_funcion\": codigo_funcion\n",
        "}\n",
        "\n",
        "# Enviar al backend (ajusta la URL al endpoint correcto de práctica 4)\n",
        "url = \"https://147.185.221.25:28151/api/pract/ejer2-prac4-F3\"\n",
        "res = requests.post(url, json=payload, verify=\"fullchain.pem\")\n",
        "respuesta_servidor = res.json()\n",
        "\n",
        "# Mostrar resultados de forma elegante\n",
        "print(\"===== Resultado del ejercicio =====\\n\")\n",
        "\n",
        "if \"error\" in respuesta_servidor and respuesta_servidor[\"error\"]:\n",
        "    if isinstance(respuesta_servidor[\"error\"], list):\n",
        "        print(\"Se encontraron los siguientes errores:\")\n",
        "        for err in respuesta_servidor[\"error\"]:\n",
        "            print(\"-\", err)\n",
        "    else:\n",
        "        print(\"Error:\", respuesta_servidor[\"error\"])\n",
        "else:\n",
        "    print(\"Mensaje del servidor:\", respuesta_servidor.get(\"mensaje\"))\n",
        "    print(\"Aciertos:\", respuesta_servidor.get(\"aciertos\"), \"\\n\")\n",
        "\n",
        "    fallos = respuesta_servidor.get(\"fallos\", [])\n",
        "    if fallos:\n",
        "        print(\"Se encontraron fallos en los siguientes ítems:\")\n",
        "        for f in fallos:\n",
        "            print(\"-\", f)\n",
        "    else:\n",
        "        print(\"¡Todos los resultados son correctos! ✅\")\n"
      ],
      "metadata": {
        "id": "Atg1jI4Md2vw",
        "cellView": "form",
        "colab": {
          "base_uri": "https://localhost:8080/"
        },
        "outputId": "4e06fb66-e180-4c3a-9334-36ac0594c349"
      },
      "execution_count": 8,
      "outputs": [
        {
          "output_type": "stream",
          "name": "stdout",
          "text": [
            "===== Resultado del ejercicio =====\n",
            "\n",
            "Mensaje del servidor: Nota: 5\n",
            "Aciertos: 5 \n",
            "\n",
            "¡Todos los resultados son correctos! ✅\n"
          ]
        }
      ]
    }
  ]
}